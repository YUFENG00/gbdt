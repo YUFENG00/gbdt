{
 "cells": [
  {
   "cell_type": "code",
   "execution_count": 5,
   "metadata": {},
   "outputs": [
    {
     "name": "stdout",
     "output_type": "stream",
     "text": [
      "[[  0.00000000e+00   0.00000000e+00   0.00000000e+00]\n",
      " [  0.00000000e+00   0.00000000e+00   0.00000000e+00]\n",
      " [  0.00000000e+00   0.00000000e+00   0.00000000e+00]\n",
      " ..., \n",
      " [  1.59200000e+03   3.77253000e+05   1.65601700e+07]\n",
      " [  2.57000000e+03   1.15069000e+05   5.65178600e+06]\n",
      " [  1.04600000e+03   2.02107000e+05   1.13663780e+07]]\n",
      "[[ 1.         -0.06238087 -0.16797319]\n",
      " [-0.06238087  1.          0.84331972]\n",
      " [-0.16797319  0.84331972  1.        ]]\n"
     ]
    }
   ],
   "source": [
    "from math import sqrt\n",
    "import numpy as np\n",
    "\n",
    "def multipl(a, b):\n",
    "    sumofab = 0.0\n",
    "    for i in range(len(a)):\n",
    "        temp = a[i] * b[i]\n",
    "        sumofab += temp\n",
    "    return sumofab\n",
    "\n",
    "\n",
    "def corrcoef(x, y):\n",
    "    n = len(x)\n",
    "    # 求和\n",
    "    sum1 = sum(x)\n",
    "    sum2 = sum(y)\n",
    "    # 求乘积之和\n",
    "    sumofxy = multipl(x, y)\n",
    "    # 求平方和\n",
    "    sumofx2 = sum([pow(i, 2) for i in x])\n",
    "    sumofy2 = sum([pow(j, 2) for j in y])\n",
    "    num = sumofxy - (float(sum1) * float(sum2) / n)\n",
    "    # 计算皮尔逊相关系数\n",
    "    den = sqrt((sumofx2 - float(sum1 ** 2) / n) * (sumofy2 - float(sum2 ** 2) / n))\n",
    "    return num / den\n",
    "\n",
    "\n",
    "# x = [0, 1, 0, 3]\n",
    "# y = [0, 1, 1, 1]\n",
    "a = np.loadtxt('BHA.csv',delimiter=',')\n",
    "# print(a)\n",
    "b = np.corrcoef(a,rowvar=0)\n",
    "print(b)\n",
    "\n",
    "# print(corrcoef(x, y)) "
   ]
  },
  {
   "cell_type": "code",
   "execution_count": null,
   "metadata": {
    "collapsed": true
   },
   "outputs": [],
   "source": []
  }
 ],
 "metadata": {
  "kernelspec": {
   "display_name": "Python 3",
   "language": "python",
   "name": "python3"
  },
  "language_info": {
   "codemirror_mode": {
    "name": "ipython",
    "version": 3
   },
   "file_extension": ".py",
   "mimetype": "text/x-python",
   "name": "python",
   "nbconvert_exporter": "python",
   "pygments_lexer": "ipython3",
   "version": "3.6.2"
  }
 },
 "nbformat": 4,
 "nbformat_minor": 2
}
