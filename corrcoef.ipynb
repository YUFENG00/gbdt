{
 "cells": [
  {
   "cell_type": "code",
   "execution_count": 10,
   "metadata": {},
   "outputs": [
    {
     "name": "stdout",
     "output_type": "stream",
     "text": [
      "[[ 1.         -0.06238087 -0.16797319]\n",
      " [-0.06238087  1.          0.84331972]\n",
      " [-0.16797319  0.84331972  1.        ]]\n"
     ]
    }
   ],
   "source": [
    "from math import sqrt\n",
    "import numpy as np\n",
    "\n",
    "# def multipl(a, b):\n",
    "#     sumofab = 0.0\n",
    "#     for i in range(len(a)):\n",
    "#         temp = a[i] * b[i]\n",
    "#         sumofab += temp\n",
    "#     return sumofab\n",
    "# def corrcoef(x, y):\n",
    "#     n = len(x)\n",
    "#     # 求和\n",
    "#     sum1 = sum(x)\n",
    "#     sum2 = sum(y)\n",
    "#     # 求乘积之和\n",
    "#     sumofxy = multipl(x, y)\n",
    "#     # 求平方和\n",
    "#     sumofx2 = sum([pow(i, 2) for i in x])\n",
    "#     sumofy2 = sum([pow(j, 2) for j in y])\n",
    "#     num = sumofxy - (float(sum1) * float(sum2) / n)\n",
    "#     # 计算皮尔逊相关系数\n",
    "#     den = sqrt((sumofx2 - float(sum1 ** 2) / n) * (sumofy2 - float(sum2 ** 2) / n))\n",
    "#     return num / den\n",
    "\n",
    "\n",
    "# x = [0, 1, 0, 3]\n",
    "# y = [0, 1, 1, 1]\n",
    "# print(corrcoef(x, y)) \n",
    "\n",
    "a = np.loadtxt('BHA.csv',delimiter=',')\n",
    "# print(a)\n",
    "b = np.corrcoef(a,rowvar=0)\n",
    "#映射到 0-1\n",
    "# c = np.corrcoef(a,rowvar=0)*0.5+0.5\n",
    "print(b)\n",
    "# print(c)"
   ]
  },
  {
   "cell_type": "code",
   "execution_count": null,
   "metadata": {
    "collapsed": true
   },
   "outputs": [],
   "source": []
  }
 ],
 "metadata": {
  "kernelspec": {
   "display_name": "Python 3",
   "language": "python",
   "name": "python3"
  },
  "language_info": {
   "codemirror_mode": {
    "name": "ipython",
    "version": 3
   },
   "file_extension": ".py",
   "mimetype": "text/x-python",
   "name": "python",
   "nbconvert_exporter": "python",
   "pygments_lexer": "ipython3",
   "version": "3.6.2"
  }
 },
 "nbformat": 4,
 "nbformat_minor": 2
}
