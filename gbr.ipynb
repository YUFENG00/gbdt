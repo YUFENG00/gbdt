{
 "cells": [
  {
   "cell_type": "code",
   "execution_count": 9,
   "metadata": {
    "scrolled": true
   },
   "outputs": [
    {
     "name": "stderr",
     "output_type": "stream",
     "text": [
      "D:\\anaconda\\lib\\site-packages\\ipykernel_launcher.py:54: DeprecationWarning: \n",
      ".ix is deprecated. Please use\n",
      ".loc for label based indexing or\n",
      ".iloc for positional indexing\n",
      "\n",
      "See the documentation here:\n",
      "http://pandas.pydata.org/pandas-docs/stable/indexing.html#ix-indexer-is-deprecated\n",
      "D:\\anaconda\\lib\\site-packages\\sklearn\\utils\\validation.py:547: DataConversionWarning: A column-vector y was passed when a 1d array was expected. Please change the shape of y to (n_samples, ), for example using ravel().\n",
      "  y = column_or_1d(y, warn=True)\n"
     ]
    },
    {
     "name": "stdout",
     "output_type": "stream",
     "text": [
      "train_model5.m\n",
      "MSE: 0.1614\n"
     ]
    },
    {
     "name": "stderr",
     "output_type": "stream",
     "text": [
      "D:\\anaconda\\lib\\site-packages\\ipykernel_launcher.py:75: DeprecationWarning: \n",
      ".ix is deprecated. Please use\n",
      ".loc for label based indexing or\n",
      ".iloc for positional indexing\n",
      "\n",
      "See the documentation here:\n",
      "http://pandas.pydata.org/pandas-docs/stable/indexing.html#ix-indexer-is-deprecated\n"
     ]
    },
    {
     "data": {
      "image/png": "[encoded data removed]",
      "text/plain": [
       "<matplotlib.figure.Figure at 0x1e8fcd8ec88>"
      ]
     },
     "metadata": {},
     "output_type": "display_data"
    }
   ],
   "source": [
    "from sklearn import ensemble\n",
    "import os\n",
    "import pandas as pd\n",
    "from sklearn.externals import joblib\n",
    "from sklearn.metrics import mean_squared_error\n",
    "import matplotlib.pyplot as plt\n",
    "import numpy as np\n",
    "import math\n",
    "mse_arr=[]\n",
    "def permutate(file,rate):#训练数据 测试数据划分比例\n",
    "    a = np.loadtxt(file,delimiter=',')\n",
    "#     a = open(file,'r', encoding='UTF-8')\n",
    "    list_a = [i for i in a]\n",
    "    dict_a = {}\n",
    "    n = a.shape[0]             # n行m列\n",
    "    m = a.shape[1]\n",
    "    for i in range(n):\n",
    "        dict_a[i] = list_a[i]       # 将矩阵逐行存储在字典里\n",
    "    # 生成n个随机序列存放在字典中，然后将序列排序，排序后的索引放于list[b]中,最终生成列表类似[3,1,2,0,4]\n",
    "    rand_number = np.random.rand(n)\n",
    "    dict_rand = {}\n",
    "    for i in range(n):\n",
    "        dict_rand[rand_number[i]] = i\n",
    "    list_rand = sorted(dict_rand.items())\n",
    "    list_num = [i[1] for i in list_rand]\n",
    "    list_b = []\n",
    "    # 按照生成列表依次提取csv相应行的数据，如[2,0,1]，则生成list_b = [dict_a[2],dict_a[0],dict_a[1]]\n",
    "    for j in range(n):\n",
    "        q = list_num[j]\n",
    "        list_b.append(dict_a[q])\n",
    "    # 将list_b转为矩阵格式\n",
    "    tmp1 = math.floor(n*rate)\n",
    "    train = np.zeros((tmp1, m))\n",
    "    for i in range(0,tmp1):\n",
    "        train[i, :] = list_b[i]\n",
    "    test = np.zeros((n-tmp1,m)) \n",
    "    for i in range(n-tmp1):\n",
    "        test[i, :] = list_b[tmp1+i]\n",
    "    return {'train':train,'test':test,'file_rows':n,'test_rows':n-tmp1}\n",
    "\n",
    "os.chdir(\"C:/Users/yufeng/Desktop/python\")\n",
    "b = permutate('pre_r.csv',0.9)\n",
    "file_rows = b['file_rows']-b['test_rows']\n",
    "train_rows = math.floor(file_rows*0.9)\n",
    "\n",
    "np.savetxt('train.csv', b['train'], delimiter = ',')\n",
    "np.savetxt('test.csv', b['test'], delimiter = ',')\n",
    "    \n",
    "for time in range(50):\n",
    "    os.chdir(\"C:/Users/yufeng/Desktop/python\")\n",
    "    t = permutate('train.csv',0.98)\n",
    "    np.savetxt('train_t.csv', t['train'], delimiter = ',')\n",
    "    df = pd.read_csv('train_t.csv', header=0, encoding='utf-8')\n",
    "    y_train,x_train = df.ix[0:train_rows,4:5],df.ix[0:train_rows,5:7]\n",
    "    y_test,x_test = df.ix[train_rows:,4:5],df.ix[train_rows:,5:7]\n",
    "    params = {'n_estimators': 100, 'max_depth': 5, 'min_samples_split': 2,\n",
    "              'learning_rate': 0.01, 'loss': 'ls'}\n",
    "    gbr = ensemble.GradientBoostingRegressor(**params) \n",
    "    gbr.fit(x_train, y_train)\n",
    "    os.chdir(\"C:/Users/yufeng/Desktop/python/model\")\n",
    "    joblib.dump(gbr, \"train_model\"+ str(time) + \".m\")\n",
    "    y_pre = gbr.predict(x_test)\n",
    "    y_test = np.array(y_test)\n",
    "    m=[]\n",
    "    n=[]\n",
    "    for i,j in enumerate(y_pre):\n",
    "        m.append(y_pre[i]/(y_test[i][0]+y_pre[i])) \n",
    "        n.append(y_test[i][0]/(y_test[i][0]+y_pre[i]))\n",
    "    mse = mean_squared_error(n,m)\n",
    "    mse_arr.append(mse)\n",
    "\n",
    "a = mse_arr.index(min(mse_arr))\n",
    "os.chdir(\"C:/Users/yufeng/Desktop/python\")\n",
    "df1 = pd.read_csv('test.csv', header=0, encoding='utf-8')\n",
    "y_test,x_test = df1.ix[0:,4:5],df1.ix[0:,5:7]\n",
    "os.chdir(\"C:/Users/yufeng/Desktop/python/model\")\n",
    "gbr = joblib.load(\"train_model\"+ str(a)+\".m\")\n",
    "print(\"train_model\"+ str(a)+\".m\")\n",
    "joblib.dump(gbr, \"pre_r_model.m\")\n",
    "y_pre1 = gbr.predict(x_test)\n",
    "# print(np.mat(y_pre1).T)\n",
    "df1.ix[0:,7:8] = np.mat(y_pre1).T\n",
    "os.chdir(\"C:/Users/yufeng/Desktop/python\")\n",
    "df1.to_csv('test_pre_r.csv',index=False)\n",
    "index=np.arange(1,b['test_rows'],1)\n",
    "# index=np.arange(1,16,1)\n",
    "m=[]\n",
    "n=[]\n",
    "y_test = np.array(y_test)\n",
    "for i,j in enumerate(y_pre1):\n",
    "    m.append(y_pre1[i]/(y_test[i][0]+y_pre1[i])) \n",
    "    n.append(y_test[i][0]/(y_test[i][0]+y_pre1[i]))\n",
    "mse = mean_squared_error(n,m)\n",
    "print(\"MSE: %.4f\" % mse)\n",
    "plt.plot(index,y_pre1,'r-',label='predict')\n",
    "plt.plot(index,y_test,'b-',label='real')\n",
    "plt.legend(loc='upper right')\n",
    "plt.show()\n"
   ]
  },
  {
   "cell_type": "code",
   "execution_count": null,
   "metadata": {
    "collapsed": true
   },
   "outputs": [],
   "source": []
  },
  {
   "cell_type": "code",
   "execution_count": null,
   "metadata": {
    "collapsed": true
   },
   "outputs": [],
   "source": []
  }
 ],
 "metadata": {
  "kernelspec": {
   "display_name": "Python 3",
   "language": "python",
   "name": "python3"
  },
  "language_info": {
   "codemirror_mode": {
    "name": "ipython",
    "version": 3
   },
   "file_extension": ".py",
   "mimetype": "text/x-python",
   "name": "python",
   "nbconvert_exporter": "python",
   "pygments_lexer": "ipython3",
   "version": "3.6.2"
  }
 },
 "nbformat": 4,
 "nbformat_minor": 2
}
