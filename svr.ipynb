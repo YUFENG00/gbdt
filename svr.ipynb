{
 "cells": [
  {
   "cell_type": "code",
   "execution_count": 3,
   "metadata": {},
   "outputs": [
    {
     "name": "stdout",
     "output_type": "stream",
     "text": [
      "GridSearchCV(cv=5, error_score='raise',\n",
      "       estimator=SVR(C=1.0, cache_size=200, coef0=0.0, degree=3, epsilon=0.1, gamma=0.1,\n",
      "  kernel='rbf', max_iter=-1, shrinking=True, tol=0.001, verbose=False),\n",
      "       fit_params=None, iid=True, n_jobs=1,\n",
      "       param_grid={'C': [1.0, 10.0, 100.0, 1000.0], 'gamma': array([  1.00000e-02,   1.00000e-01,   1.00000e+00,   1.00000e+01,\n",
      "         1.00000e+02])},\n",
      "       pre_dispatch='2*n_jobs', refit=True, return_train_score=True,\n",
      "       scoring=None, verbose=0)\n",
      "[ 171.6]\n"
     ]
    }
   ],
   "source": [
    "from sklearn import svm \n",
    "import numpy as np \n",
    "import pandas as pd\n",
    "import csv \n",
    "from sklearn.model_selection import GridSearchCV\n",
    "from sklearn.svm import SVR \n",
    "# df=pd.read_csv('BHA.csv', header=0, encoding='utf-8')\n",
    "bsum = []\n",
    "house = []\n",
    "area = []\n",
    "housearea = []\n",
    "with open('BHA.csv','r') as bha:\n",
    "    reader = csv.reader(bha, delimiter=',')\n",
    "    for row in reader:\n",
    "        bsum.append(int(row[0]))\n",
    "        house.append(int(row[1]))\n",
    "        house.append(int(row[2]))\n",
    "ha = np.array(house).reshape(365,2)\n",
    "X= np.array(ha)  \n",
    "y = np.array(bsum) \n",
    "svr = GridSearchCV(SVR(kernel='rbf', gamma=0.1), cv=5,  \n",
    "                   param_grid={\"C\": [1e0, 1e1, 1e2, 1e3],  \n",
    "                               \"gamma\": np.logspace(-2, 2, 5)}) \n",
    "# clf = svm.SVR() \n",
    "# clf.fit(X, y)\n",
    "svr.fit(X,y)\n",
    "print (svr.fit(X,y))  \n",
    "print (svr.predict([[80,880]]))"
   ]
  },
  {
   "cell_type": "code",
   "execution_count": null,
   "metadata": {
    "collapsed": true
   },
   "outputs": [],
   "source": []
  }
 ],
 "metadata": {
  "kernelspec": {
   "display_name": "Python 3",
   "language": "python",
   "name": "python3"
  },
  "language_info": {
   "codemirror_mode": {
    "name": "ipython",
    "version": 3
   },
   "file_extension": ".py",
   "mimetype": "text/x-python",
   "name": "python",
   "nbconvert_exporter": "python",
   "pygments_lexer": "ipython3",
   "version": "3.6.2"
  }
 },
 "nbformat": 4,
 "nbformat_minor": 2
}
